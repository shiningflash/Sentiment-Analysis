{
 "cells": [
  {
   "cell_type": "markdown",
   "metadata": {},
   "source": [
    "# Sentiment Analysis using Deep Learning in Keras"
   ]
  },
  {
   "cell_type": "markdown",
   "metadata": {},
   "source": [
    "### Importing Required Libraries"
   ]
  },
  {
   "cell_type": "code",
   "execution_count": 1,
   "metadata": {},
   "outputs": [],
   "source": [
    "import re\n",
    "import pandas as pd\n",
    "import numpy as np\n",
    "import seaborn as sns\n",
    "from sklearn.model_selection import train_test_split\n",
    "from keras.preprocessing.text import Tokenizer\n",
    "from numpy import array, asarray, zeros\n",
    "from keras.models import Sequential\n",
    "from keras.preprocessing.sequence import pad_sequences\n",
    "from keras.layers import Flatten, GlobalMaxPooling1D\n",
    "from keras.layers.core import Activation, Dropout, Dense\n",
    "from keras.layers.embeddings import Embedding\n",
    "import matplotlib.pyplot as plt\n",
    "from keras.layers import Conv1D\n",
    "from keras.layers import LSTM"
   ]
  },
  {
   "cell_type": "markdown",
   "metadata": {},
   "source": [
    "### Importing Dataset\n",
    "\n",
    "Dataset 1 link: https://www.kaggle.com/lakshmi25npathi/imdb-dataset-of-50k-movie-reviews\n",
    "\n",
    "Dataset 2 link: https://github.com/vineetdhanawat/twitter-sentiment-analysis/blob/master/datasets/Sentiment%20Analysis%20Dataset%20100000.csv"
   ]
  },
  {
   "cell_type": "code",
   "execution_count": 2,
   "metadata": {},
   "outputs": [],
   "source": [
    "df = []\n",
    "df.append(pd.read_csv('data/IMDB Dataset.csv', nrows = 10000))\n",
    "df.append(pd.read_csv('data/Sentiment Analysis Dataset 100000.csv', encoding = 'latin-1', nrows = 10000))\n",
    "df[1].drop(['ItemID'], axis = 'columns', inplace = True)"
   ]
  },
  {
   "cell_type": "code",
   "execution_count": 3,
   "metadata": {},
   "outputs": [
    {
     "data": {
      "text/html": [
       "<div>\n",
       "<style scoped>\n",
       "    .dataframe tbody tr th:only-of-type {\n",
       "        vertical-align: middle;\n",
       "    }\n",
       "\n",
       "    .dataframe tbody tr th {\n",
       "        vertical-align: top;\n",
       "    }\n",
       "\n",
       "    .dataframe thead th {\n",
       "        text-align: right;\n",
       "    }\n",
       "</style>\n",
       "<table border=\"1\" class=\"dataframe\">\n",
       "  <thead>\n",
       "    <tr style=\"text-align: right;\">\n",
       "      <th></th>\n",
       "      <th>text</th>\n",
       "      <th>sentiment</th>\n",
       "    </tr>\n",
       "  </thead>\n",
       "  <tbody>\n",
       "    <tr>\n",
       "      <th>0</th>\n",
       "      <td>One of the other reviewers has mentioned that ...</td>\n",
       "      <td>positive</td>\n",
       "    </tr>\n",
       "    <tr>\n",
       "      <th>1</th>\n",
       "      <td>A wonderful little production. &lt;br /&gt;&lt;br /&gt;The...</td>\n",
       "      <td>positive</td>\n",
       "    </tr>\n",
       "    <tr>\n",
       "      <th>2</th>\n",
       "      <td>I thought this was a wonderful way to spend ti...</td>\n",
       "      <td>positive</td>\n",
       "    </tr>\n",
       "    <tr>\n",
       "      <th>3</th>\n",
       "      <td>Basically there's a family where a little boy ...</td>\n",
       "      <td>negative</td>\n",
       "    </tr>\n",
       "    <tr>\n",
       "      <th>4</th>\n",
       "      <td>Petter Mattei's \"Love in the Time of Money\" is...</td>\n",
       "      <td>positive</td>\n",
       "    </tr>\n",
       "  </tbody>\n",
       "</table>\n",
       "</div>"
      ],
      "text/plain": [
       "                                                text sentiment\n",
       "0  One of the other reviewers has mentioned that ...  positive\n",
       "1  A wonderful little production. <br /><br />The...  positive\n",
       "2  I thought this was a wonderful way to spend ti...  positive\n",
       "3  Basically there's a family where a little boy ...  negative\n",
       "4  Petter Mattei's \"Love in the Time of Money\" is...  positive"
      ]
     },
     "execution_count": 3,
     "metadata": {},
     "output_type": "execute_result"
    }
   ],
   "source": [
    "df[0].head(5)"
   ]
  },
  {
   "cell_type": "code",
   "execution_count": 4,
   "metadata": {},
   "outputs": [
    {
     "data": {
      "text/html": [
       "<div>\n",
       "<style scoped>\n",
       "    .dataframe tbody tr th:only-of-type {\n",
       "        vertical-align: middle;\n",
       "    }\n",
       "\n",
       "    .dataframe tbody tr th {\n",
       "        vertical-align: top;\n",
       "    }\n",
       "\n",
       "    .dataframe thead th {\n",
       "        text-align: right;\n",
       "    }\n",
       "</style>\n",
       "<table border=\"1\" class=\"dataframe\">\n",
       "  <thead>\n",
       "    <tr style=\"text-align: right;\">\n",
       "      <th></th>\n",
       "      <th>sentiment</th>\n",
       "      <th>text</th>\n",
       "    </tr>\n",
       "  </thead>\n",
       "  <tbody>\n",
       "    <tr>\n",
       "      <th>0</th>\n",
       "      <td>0</td>\n",
       "      <td>is so sad for my APL frie...</td>\n",
       "    </tr>\n",
       "    <tr>\n",
       "      <th>1</th>\n",
       "      <td>0</td>\n",
       "      <td>I missed the New Moon trail...</td>\n",
       "    </tr>\n",
       "    <tr>\n",
       "      <th>2</th>\n",
       "      <td>1</td>\n",
       "      <td>omg its already 7:30 :O</td>\n",
       "    </tr>\n",
       "    <tr>\n",
       "      <th>3</th>\n",
       "      <td>0</td>\n",
       "      <td>.. Omgaga. Im sooo  im gunna CRy. I'...</td>\n",
       "    </tr>\n",
       "    <tr>\n",
       "      <th>4</th>\n",
       "      <td>0</td>\n",
       "      <td>i think mi bf is cheating on me!!!   ...</td>\n",
       "    </tr>\n",
       "  </tbody>\n",
       "</table>\n",
       "</div>"
      ],
      "text/plain": [
       "   sentiment                                               text\n",
       "0          0                       is so sad for my APL frie...\n",
       "1          0                     I missed the New Moon trail...\n",
       "2          1                            omg its already 7:30 :O\n",
       "3          0            .. Omgaga. Im sooo  im gunna CRy. I'...\n",
       "4          0           i think mi bf is cheating on me!!!   ..."
      ]
     },
     "execution_count": 4,
     "metadata": {},
     "output_type": "execute_result"
    }
   ],
   "source": [
    "df[1].head(5)"
   ]
  },
  {
   "cell_type": "code",
   "execution_count": 5,
   "metadata": {},
   "outputs": [
    {
     "data": {
      "text/plain": [
       "\"One of the other reviewers has mentioned that after watching just 1 Oz episode you'll be hooked. They are right, as this is exactly what happened with me.<br /><br />The first thing that struck me about Oz was its brutality and unflinching scenes of violence, which set in right from the word GO. Trust me, this is not a show for the faint hearted or timid. This show pulls no punches with regards to drugs, sex or violence. Its is hardcore, in the classic use of the word.<br /><br />It is called OZ as that is the nickname given to the Oswald Maximum Security State Penitentary. It focuses mainly on Emerald City, an experimental section of the prison where all the cells have glass fronts and face inwards, so privacy is not high on the agenda. Em City is home to many..Aryans, Muslims, gangstas, Latinos, Christians, Italians, Irish and more....so scuffles, death stares, dodgy dealings and shady agreements are never far away.<br /><br />I would say the main appeal of the show is due to the fact that it goes where other shows wouldn't dare. Forget pretty pictures painted for mainstream audiences, forget charm, forget romance...OZ doesn't mess around. The first episode I ever saw struck me as so nasty it was surreal, I couldn't say I was ready for it, but as I watched more, I developed a taste for Oz, and got accustomed to the high levels of graphic violence. Not just violence, but injustice (crooked guards who'll be sold out for a nickel, inmates who'll kill on order and get away with it, well mannered, middle class inmates being turned into prison bitches due to their lack of street skills or prison experience) Watching Oz, you may become comfortable with what is uncomfortable viewing....thats if you can get in touch with your darker side.\""
      ]
     },
     "execution_count": 5,
     "metadata": {},
     "output_type": "execute_result"
    }
   ],
   "source": [
    "df[0]['text'][0]"
   ]
  },
  {
   "cell_type": "code",
   "execution_count": 6,
   "metadata": {},
   "outputs": [
    {
     "data": {
      "text/plain": [
       "'                     is so sad for my APL friend.............'"
      ]
     },
     "execution_count": 6,
     "metadata": {},
     "output_type": "execute_result"
    }
   ],
   "source": [
    "df[1]['text'][0]"
   ]
  },
  {
   "cell_type": "code",
   "execution_count": 7,
   "metadata": {},
   "outputs": [
    {
     "name": "stdout",
     "output_type": "stream",
     "text": [
      "False\n",
      "False\n"
     ]
    }
   ],
   "source": [
    "for i in df:\n",
    "    print(i.isnull().values.any())"
   ]
  },
  {
   "cell_type": "code",
   "execution_count": 8,
   "metadata": {},
   "outputs": [
    {
     "data": {
      "text/plain": [
       "<AxesSubplot:xlabel='sentiment', ylabel='count'>"
      ]
     },
     "execution_count": 8,
     "metadata": {},
     "output_type": "execute_result"
    },
    {
     "data": {
      "image/png": "[encoded data removed]",
      "text/plain": [
       "<Figure size 432x288 with 1 Axes>"
      ]
     },
     "metadata": {
      "needs_background": "light"
     },
     "output_type": "display_data"
    }
   ],
   "source": [
    "sns.countplot(x = 'sentiment', data = df[0])"
   ]
  },
  {
   "cell_type": "code",
   "execution_count": 9,
   "metadata": {},
   "outputs": [
    {
     "data": {
      "text/plain": [
       "<AxesSubplot:xlabel='sentiment', ylabel='count'>"
      ]
     },
     "execution_count": 9,
     "metadata": {},
     "output_type": "execute_result"
    },
    {
     "data": {
      "image/png": "[encoded data removed]",
      "text/plain": [
       "<Figure size 432x288 with 1 Axes>"
      ]
     },
     "metadata": {
      "needs_background": "light"
     },
     "output_type": "display_data"
    }
   ],
   "source": [
    "sns.countplot(x = 'sentiment', data = df[1])"
   ]
  },
  {
   "cell_type": "markdown",
   "metadata": {},
   "source": [
    "## Data Processing"
   ]
  },
  {
   "cell_type": "markdown",
   "metadata": {},
   "source": [
    "#### Dataset 1 Cleaning"
   ]
  },
  {
   "cell_type": "code",
   "execution_count": 10,
   "metadata": {},
   "outputs": [],
   "source": [
    "TAG_RE = re.compile(r'<[^>]+>')\n",
    "\n",
    "def remove_html_tags(sen):\n",
    "    return TAG_RE.sub('', sen)"
   ]
  },
  {
   "cell_type": "code",
   "execution_count": 11,
   "metadata": {},
   "outputs": [],
   "source": [
    "def data_processing_1(sen):\n",
    "    sen = remove_html_tags(sen) # remove html tag\n",
    "    sen = sen.replace('n\\'t', ' not') # convert n't to not\n",
    "    sen = re.sub(r\"\\s+[a-zA-Z]\\s+\", ' ', sen) # remove single letter\n",
    "    sen = re.sub(r'\\s+', ' ', sen) # remove multiple spaces\n",
    "    sen = re.sub(r'[.]+', '.', sen) # remove multiple dots\n",
    "    sen = sen.replace('\\\\\\'', ' ') # remove \\\n",
    "    return sen"
   ]
  },
  {
   "cell_type": "code",
   "execution_count": 12,
   "metadata": {},
   "outputs": [],
   "source": [
    "X = [[\"0\"]*10000]*3"
   ]
  },
  {
   "cell_type": "code",
   "execution_count": 13,
   "metadata": {},
   "outputs": [],
   "source": [
    "sentences = list(df[0]['text'])\n",
    "i = 0\n",
    "\n",
    "for sen in sentences:\n",
    "    X[0][i] = data_processing_1(sen)\n",
    "    i = i + 1\n",
    "\n",
    "X[0] = np.array(list(X[0]))"
   ]
  },
  {
   "cell_type": "code",
   "execution_count": 14,
   "metadata": {},
   "outputs": [
    {
     "name": "stdout",
     "output_type": "stream",
     "text": [
      "One of the other reviewers has mentioned that after watching just 1 Oz episode you'll be hooked. They are right, as this is exactly what happened with me.The first thing that struck me about Oz was its brutality and unflinching scenes of violence, which set in right from the word GO. Trust me, this is not show for the faint hearted or timid. This show pulls no punches with regards to drugs, sex or violence. Its is hardcore, in the classic use of the word.It is called OZ as that is the nickname given to the Oswald Maximum Security State Penitentary. It focuses mainly on Emerald City, an experimental section of the prison where all the cells have glass fronts and face inwards, so privacy is not high on the agenda. Em City is home to many.Aryans, Muslims, gangstas, Latinos, Christians, Italians, Irish and more.so scuffles, death stares, dodgy dealings and shady agreements are never far away.I would say the main appeal of the show is due to the fact that it goes where other shows would not dare. Forget pretty pictures painted for mainstream audiences, forget charm, forget romance.OZ does not mess around. The first episode ever saw struck me as so nasty it was surreal, could not say was ready for it, but as watched more, developed taste for Oz, and got accustomed to the high levels of graphic violence. Not just violence, but injustice (crooked guards who'll be sold out for nickel, inmates who'll kill on order and get away with it, well mannered, middle class inmates being turned into prison bitches due to their lack of street skills or prison experience) Watching Oz, you may become comfortable with what is uncomfortable viewing.thats if you can get in touch with your darker side.\n",
      "\n",
      "A wonderful little production. The filming technique is very unassuming- very old-time-BBC fashion and gives comforting, and sometimes discomforting, sense of realism to the entire piece. The actors are extremely well chosen- Michael Sheen not only \"has got all the polari\" but he has all the voices down pat too! You can truly see the seamless editing guided by the references to Williams' diary entries, not only is it well worth the watching but it is terrificly written and performed piece. masterful production about one of the great master's of comedy and his life. The realism really comes home with the little things: the fantasy of the guard which, rather than use the traditional 'dream' techniques remains solid then disappears. It plays on our knowledge and our senses, particularly with the scenes concerning Orton and Halliwell and the sets (particularly of their flat with Halliwell's murals decorating every surface) are terribly well done.\n",
      "\n",
      "I thought this was wonderful way to spend time on too hot summer weekend, sitting in the air conditioned theater and watching light-hearted comedy. The plot is simplistic, but the dialogue is witty and the characters are likable (even the well bread suspected serial killer). While some may be disappointed when they realize this is not Match Point 2: Risk Addiction, thought it was proof that Woody Allen is still fully in control of the style many of us have grown to love.This was the most I'd laughed at one of Woody's comedies in years (dare say decade?). While I've never been impressed with Scarlet Johanson, in this she managed to tone down her \"sexy\" image and jumped right into average, but spirited young woman.This may not be the crown jewel of his career, but it was wittier than \"Devil Wears Prada\" and more interesting than \"Superman\" great comedy to go see with friends.\n",
      "\n"
     ]
    }
   ],
   "source": [
    "for i in range(0, 3):\n",
    "    print(X[0][i], end = '\\n\\n')"
   ]
  },
  {
   "cell_type": "code",
   "execution_count": 15,
   "metadata": {},
   "outputs": [],
   "source": [
    "y = [[0]*10000]*3\n",
    "y[0] = df[0]['sentiment']\n",
    "y[0] = np.array(list(map(lambda x: 1 if x == \"positive\" else 0, y[0])))"
   ]
  },
  {
   "cell_type": "code",
   "execution_count": 16,
   "metadata": {},
   "outputs": [
    {
     "name": "stdout",
     "output_type": "stream",
     "text": [
      "1, 1, 1, 0, 1, "
     ]
    }
   ],
   "source": [
    "for i in range(0, 5):\n",
    "    print(y[0][i], end = ', ')"
   ]
  },
  {
   "cell_type": "code",
   "execution_count": 17,
   "metadata": {},
   "outputs": [
    {
     "name": "stdout",
     "output_type": "stream",
     "text": [
      "(10000,)\n",
      "(10000,)\n"
     ]
    }
   ],
   "source": [
    "print(np.shape(X[0]))\n",
    "print(np.shape(y[0]))"
   ]
  },
  {
   "cell_type": "markdown",
   "metadata": {},
   "source": [
    "#### Dataset 2 Cleaning"
   ]
  },
  {
   "cell_type": "code",
   "execution_count": 18,
   "metadata": {},
   "outputs": [],
   "source": [
    "def data_processing_2(sen):\n",
    "    sen = sen.replace('&quot;3', '')\n",
    "    sen = sen.replace('&quot;', '')\n",
    "    sen = sen.replace('&lt;3', '')\n",
    "    sen = sen.replace('&lt;', '')\n",
    "    sen = sen.replace('&gt;', '')\n",
    "    sen = re.sub('http[s]?://\\S+', '', sen)\n",
    "    sen = re.sub('[a-zA-Z0-9]*@[a-zA-Z0-9]*', '', sen)\n",
    "    sen = sen.replace('an\\'t', 'an not')\n",
    "    sen = sen.replace('n\\'t', ' not')\n",
    "    sen = re.sub(r\"\\s+[A-Z]\\s+\", ' ', sen)\n",
    "    sen = re.sub(r'[.]+', '.', sen)\n",
    "    sen = re.sub(r'\\s+', ' ', sen)\n",
    "    sen = re.sub(r'[-]+', ' ', sen)\n",
    "    return sen"
   ]
  },
  {
   "cell_type": "code",
   "execution_count": 19,
   "metadata": {},
   "outputs": [],
   "source": [
    "sentences = list(df[1]['text'])\n",
    "i = 0\n",
    "\n",
    "for sen in sentences:\n",
    "    X[1][i] = data_processing_2(sen)\n",
    "    i = i + 1\n",
    "    \n",
    "X[1] = np.array(list(X[1]))"
   ]
  },
  {
   "cell_type": "code",
   "execution_count": 20,
   "metadata": {},
   "outputs": [],
   "source": [
    "y[1] = np.array(list(df[1]['sentiment']))"
   ]
  },
  {
   "cell_type": "code",
   "execution_count": 21,
   "metadata": {},
   "outputs": [
    {
     "name": "stdout",
     "output_type": "stream",
     "text": [
      "0,0,1,0,0,0,1,0,1,1,"
     ]
    }
   ],
   "source": [
    "for i in range(0, 10):\n",
    "    print(y[1][i], end = ',')"
   ]
  },
  {
   "cell_type": "code",
   "execution_count": 22,
   "metadata": {},
   "outputs": [
    {
     "name": "stdout",
     "output_type": "stream",
     "text": [
      "(10000,)\n",
      "(10000,)\n"
     ]
    }
   ],
   "source": [
    "print(np.shape(X[1]))\n",
    "print(np.shape(y[1]))"
   ]
  },
  {
   "cell_type": "markdown",
   "metadata": {},
   "source": [
    "#### Combine Dataset"
   ]
  },
  {
   "cell_type": "code",
   "execution_count": 23,
   "metadata": {},
   "outputs": [],
   "source": [
    "for i in range(0, 5000):\n",
    "    X[2][i] = X[0][i]\n",
    "    y[2][i] = y[0][i]\n",
    "for i in range(5000, 10000):\n",
    "    X[2][i] = X[1][i]\n",
    "    y[2][i] = y[1][i]\n",
    "    \n",
    "X[2] = np.array(X[2])\n",
    "y[2] = np.array(y[2])"
   ]
  },
  {
   "cell_type": "code",
   "execution_count": 24,
   "metadata": {},
   "outputs": [
    {
     "name": "stdout",
     "output_type": "stream",
     "text": [
      "(10000,)\n",
      "(10000,)\n"
     ]
    }
   ],
   "source": [
    "print(np.shape(X[2]))\n",
    "print(np.shape(y[2]))"
   ]
  },
  {
   "cell_type": "code",
   "execution_count": 25,
   "metadata": {},
   "outputs": [
    {
     "name": "stdout",
     "output_type": "stream",
     "text": [
      "1 One of the other reviewers has mentioned that after watching just 1 Oz episode you'll be hooked. They are right, as this is exactly what happened with me.The first thing that struck me about Oz was its brutality and unflinching scenes of violence, which set in right from the word GO. Trust me, this is not show for the faint hearted or timid. This show pulls no punches with regards to drugs, sex or violence. Its is hardcore, in the classic use of the word.It is called OZ as that is the nickname given to the Oswald Maximum Security State Penitentary. It focuses mainly on Emerald City, an experimental section of the prison where all the cells have glass fronts and face inwards, so privacy is not high on the agenda. Em City is home to many.Aryans, Muslims, gangstas, Latinos, Christians, Italians, Irish and more.so scuffles, death stares, dodgy dealings and shady agreements are never far away.I would say the main appeal of the show is due to the fact that it goes where other shows would not dare. Forget pretty pictures painted for mainstream audiences, forget charm, forget romance.OZ does not mess around. The first episode ever saw struck me as so nasty it was surreal, could not say was ready for it, but as watched more, developed taste for Oz, and got accustomed to the high levels of graphic violence. Not just violence, but injustice (crooked guards who'll be sold out for nickel, inmates who'll kill on order and get away with it, well mannered, middle class inmates being turned into prison bitches due to their lack of street skills or prison experience) Watching Oz, you may become comfortable with what is uncomfortable viewing.thats if you can get in touch with your darker side.\n",
      "\n",
      "1 A wonderful little production. The filming technique is very unassuming- very old-time-BBC fashion and gives comforting, and sometimes discomforting, sense of realism to the entire piece. The actors are extremely well chosen- Michael Sheen not only \"has got all the polari\" but he has all the voices down pat too! You can truly see the seamless editing guided by the references to Williams' diary entries, not only is it well worth the watching but it is terrificly written and performed piece. masterful production about one of the great master's of comedy and his life. The realism really comes home with the little things: the fantasy of the guard which, rather than use the traditional 'dream' techniques remains solid then disappears. It plays on our knowledge and our senses, particularly with the scenes concerning Orton and Halliwell and the sets (particularly of their flat with Halliwell's murals decorating every surface) are terribly well done.\n",
      "\n",
      "1 I thought this was wonderful way to spend time on too hot summer weekend, sitting in the air conditioned theater and watching light-hearted comedy. The plot is simplistic, but the dialogue is witty and the characters are likable (even the well bread suspected serial killer). While some may be disappointed when they realize this is not Match Point 2: Risk Addiction, thought it was proof that Woody Allen is still fully in control of the style many of us have grown to love.This was the most I'd laughed at one of Woody's comedies in years (dare say decade?). While I've never been impressed with Scarlet Johanson, in this she managed to tone down her \"sexy\" image and jumped right into average, but spirited young woman.This may not be the crown jewel of his career, but it was wittier than \"Devil Wears Prada\" and more interesting than \"Superman\" great comedy to go see with friends.\n",
      "\n",
      "1  very very very happy and slightly skinny xx\n",
      "\n",
      "0  waaaaahhh. ohyeah i had something to do eeee. haha\n",
      "\n",
      "1  Wade.Grad.Hot.Bald. Your not gonna shave your head! Uh. Yeah.I hot.get babes Hahahaha man love Wade!\n",
      "\n"
     ]
    }
   ],
   "source": [
    "for sen in range(0, 3):\n",
    "    print(y[2][sen], X[2][sen], end = '\\n\\n')\n",
    "for sen in range(5000, 5003):\n",
    "    print(y[2][sen], X[2][sen], end = '\\n\\n')"
   ]
  },
  {
   "cell_type": "markdown",
   "metadata": {},
   "source": [
    "#### Dataset splitting to train and test"
   ]
  },
  {
   "cell_type": "code",
   "execution_count": 26,
   "metadata": {},
   "outputs": [],
   "source": [
    "X_train = [[]] * 3\n",
    "X_test = [[]] * 3\n",
    "y_train = [[]] * 3\n",
    "y_test = [[]] * 3"
   ]
  },
  {
   "cell_type": "code",
   "execution_count": 27,
   "metadata": {},
   "outputs": [
    {
     "name": "stdout",
     "output_type": "stream",
     "text": [
      "dataset  1 :  (10000,) ,  (10000,)\n",
      "dataset  2 :  (10000,) ,  (10000,)\n",
      "dataset  3 :  (10000,) ,  (10000,)\n"
     ]
    }
   ],
   "source": [
    "for i in range(0, 3):\n",
    "    print('dataset ', i+1, ': ', np.shape(X[i]), ', ', np.shape(y[i]), end = '\\n')"
   ]
  },
  {
   "cell_type": "code",
   "execution_count": 28,
   "metadata": {},
   "outputs": [],
   "source": [
    "for i in range(0, 3):\n",
    "    X_train[i], X_test[i], y_train[i], y_test[i] = train_test_split(\n",
    "        X[i], y[i], test_size = 0.25,\n",
    "        random_state = 42\n",
    "    )"
   ]
  },
  {
   "cell_type": "code",
   "execution_count": 29,
   "metadata": {},
   "outputs": [
    {
     "name": "stdout",
     "output_type": "stream",
     "text": [
      "0 :  0  -->  #f1 Rubens knows he has lost any chance of the world championship\n",
      "1 :  0  -->  #3turnoffwords   Isit in yet\n",
      "2 :  1  -->  #FollowFriday is a ferociously gifted writer whose books &amp; Tweets are magical must reads. Follow &amp; you'll LOVE her too\n",
      "3 :  0  -->  My heart sings when think of youuu haha that's all keep singing today. I'm craving cheeto puffs unhealthy!\n",
      "4 :  0  -->   guys are pricks. gonna have an early night and cry til i fall asleep. fuck you all.\n",
      "5 :  1  -->  #faviphoneapp Black Book. But since only have a Touch it's not as fun. But it's still a great junt organizer\n",
      "6 :  0  -->  #musicmonday Crossfire   On Fire\n",
      "7 :  1  -->  #3wordsaftersex 'I broke it?!?!' lol\n",
      "8 :  0  -->  ! .sooo, any hope for a match up with Liz Cheney and Mikas Daddy? thx!! Ratings Gold I'm sure!! \n",
      "9 :  0  -->   u guys knw whyy\n"
     ]
    }
   ],
   "source": [
    "for i in range(0, 10):\n",
    "    print(i, ': ', y_test[1][i], ' --> ', X_train[1][i])"
   ]
  },
  {
   "cell_type": "markdown",
   "metadata": {},
   "source": [
    "### Preparing Embedding Layer"
   ]
  },
  {
   "cell_type": "code",
   "execution_count": 30,
   "metadata": {},
   "outputs": [],
   "source": [
    "tokenizer = Tokenizer(num_words = 50000)\n",
    "\n",
    "for i in range(3):\n",
    "    tokenizer.fit_on_texts(X_train[i])"
   ]
  },
  {
   "cell_type": "code",
   "execution_count": 31,
   "metadata": {},
   "outputs": [],
   "source": [
    "for i in range(3):\n",
    "    X_train[i] = tokenizer.texts_to_sequences(X_train[i])"
   ]
  },
  {
   "cell_type": "code",
   "execution_count": 32,
   "metadata": {},
   "outputs": [],
   "source": [
    "for i in range(3):\n",
    "    X_test[i] = tokenizer.texts_to_sequences(X_test[i])"
   ]
  },
  {
   "cell_type": "code",
   "execution_count": 33,
   "metadata": {},
   "outputs": [
    {
     "name": "stdout",
     "output_type": "stream",
     "text": [
      "57961\n"
     ]
    }
   ],
   "source": [
    "maxlen = 100\n",
    "vocab_size = len(tokenizer.word_index) + 1\n",
    "print(vocab_size)"
   ]
  },
  {
   "cell_type": "code",
   "execution_count": 34,
   "metadata": {},
   "outputs": [],
   "source": [
    "for i in range(3):\n",
    "    X_train[i] = pad_sequences(\n",
    "        X_train[i],\n",
    "        padding = 'post',\n",
    "        maxlen = maxlen\n",
    "    )"
   ]
  },
  {
   "cell_type": "code",
   "execution_count": 35,
   "metadata": {},
   "outputs": [],
   "source": [
    "for i in range(3):\n",
    "    X_test[i] = pad_sequences(\n",
    "        X_test[i],\n",
    "        padding = 'post',\n",
    "        maxlen = maxlen\n",
    "    )"
   ]
  },
  {
   "cell_type": "markdown",
   "metadata": {},
   "source": [
    "#### glove.6B.100d.txt Dataset for GloVe Embedding\n",
    "\n",
    "dataset link: https://www.kaggle.com/danielwillgeorge/glove6b100dtxt"
   ]
  },
  {
   "cell_type": "code",
   "execution_count": 36,
   "metadata": {},
   "outputs": [],
   "source": [
    "embed_dictionary = dict()\n",
    "glv_file = open('data/glove.6B.100d.txt', encoding='utf8')"
   ]
  },
  {
   "cell_type": "code",
   "execution_count": 37,
   "metadata": {},
   "outputs": [],
   "source": [
    "for line in glv_file:\n",
    "    records = line.split()\n",
    "    word = records[0]\n",
    "    vector_dim = asarray(records[1:], dtype='float32')\n",
    "    embed_dictionary[word] = vector_dim\n",
    "glv_file.close()"
   ]
  },
  {
   "cell_type": "code",
   "execution_count": 38,
   "metadata": {},
   "outputs": [],
   "source": [
    "embed_matrix = zeros((vocab_size, 100))"
   ]
  },
  {
   "cell_type": "code",
   "execution_count": 39,
   "metadata": {},
   "outputs": [],
   "source": [
    "for word, index in tokenizer.word_index.items():\n",
    "    embed_vector = embed_dictionary.get(word)\n",
    "    if embed_vector is not None:\n",
    "        embed_matrix[index] = embed_vector"
   ]
  },
  {
   "cell_type": "code",
   "execution_count": 40,
   "metadata": {},
   "outputs": [
    {
     "data": {
      "text/plain": [
       "array([-0.038194  , -0.24487001,  0.72812003, -0.39961001,  0.083172  ,\n",
       "        0.043953  , -0.39140999,  0.3344    , -0.57545   ,  0.087459  ,\n",
       "        0.28786999, -0.06731   ,  0.30906001, -0.26383999, -0.13231   ,\n",
       "       -0.20757   ,  0.33395001, -0.33848   , -0.31742999, -0.48335999,\n",
       "        0.1464    , -0.37303999,  0.34577   ,  0.052041  ,  0.44946   ,\n",
       "       -0.46970999,  0.02628   , -0.54154998, -0.15518001, -0.14106999,\n",
       "       -0.039722  ,  0.28277001,  0.14393   ,  0.23464   , -0.31020999,\n",
       "        0.086173  ,  0.20397   ,  0.52623999,  0.17163999, -0.082378  ,\n",
       "       -0.71787   , -0.41531   ,  0.20334999, -0.12763   ,  0.41367   ,\n",
       "        0.55186999,  0.57907999, -0.33476999, -0.36559001, -0.54856998,\n",
       "       -0.062892  ,  0.26583999,  0.30204999,  0.99774998, -0.80480999,\n",
       "       -3.0243001 ,  0.01254   , -0.36941999,  2.21670008,  0.72201002,\n",
       "       -0.24978   ,  0.92136002,  0.034514  ,  0.46744999,  1.10790002,\n",
       "       -0.19358   , -0.074575  ,  0.23353   , -0.052062  , -0.22044   ,\n",
       "        0.057162  , -0.15806   , -0.30798   , -0.41624999,  0.37972   ,\n",
       "        0.15006   , -0.53211999, -0.20550001, -1.25259995,  0.071624  ,\n",
       "        0.70564997,  0.49744001, -0.42063001,  0.26148   , -1.53799999,\n",
       "       -0.30223   , -0.073438  , -0.28312001,  0.37103999, -0.25217   ,\n",
       "        0.016215  , -0.017099  , -0.38984001,  0.87423998, -0.72569001,\n",
       "       -0.51058   , -0.52028   , -0.1459    ,  0.82779998,  0.27061999])"
      ]
     },
     "execution_count": 40,
     "metadata": {},
     "output_type": "execute_result"
    }
   ],
   "source": [
    "embed_matrix[1]"
   ]
  },
  {
   "cell_type": "markdown",
   "metadata": {},
   "source": [
    "## Text Classification with Simple Neural Network"
   ]
  },
  {
   "cell_type": "code",
   "execution_count": 41,
   "metadata": {},
   "outputs": [],
   "source": [
    "model = Sequential()\n",
    "embed_layer = Embedding(\n",
    "    vocab_size, 100,\n",
    "    weights = [embed_matrix],\n",
    "    input_length = maxlen,\n",
    "    trainable = False\n",
    ")\n",
    "model.add(embed_layer)\n",
    "model.add(Flatten())"
   ]
  },
  {
   "cell_type": "code",
   "execution_count": 42,
   "metadata": {},
   "outputs": [],
   "source": [
    "model.add(\n",
    "    Dense(\n",
    "        1,\n",
    "        activation = 'sigmoid'\n",
    "    )\n",
    ")"
   ]
  },
  {
   "cell_type": "code",
   "execution_count": 43,
   "metadata": {},
   "outputs": [],
   "source": [
    "model.compile(\n",
    "    optimizer = 'adam',\n",
    "    loss = 'binary_crossentropy',\n",
    "    metrics = ['acc']\n",
    ")"
   ]
  },
  {
   "cell_type": "code",
   "execution_count": 44,
   "metadata": {},
   "outputs": [
    {
     "name": "stdout",
     "output_type": "stream",
     "text": [
      "Model: \"sequential\"\n",
      "_________________________________________________________________\n",
      "Layer (type)                 Output Shape              Param #   \n",
      "=================================================================\n",
      "embedding (Embedding)        (None, 100, 100)          5796100   \n",
      "_________________________________________________________________\n",
      "flatten (Flatten)            (None, 10000)             0         \n",
      "_________________________________________________________________\n",
      "dense (Dense)                (None, 1)                 10001     \n",
      "=================================================================\n",
      "Total params: 5,806,101\n",
      "Trainable params: 10,001\n",
      "Non-trainable params: 5,796,100\n",
      "_________________________________________________________________\n"
     ]
    }
   ],
   "source": [
    "model.summary()"
   ]
  },
  {
   "cell_type": "code",
   "execution_count": 45,
   "metadata": {},
   "outputs": [
    {
     "name": "stdout",
     "output_type": "stream",
     "text": [
      "Epoch 1/6\n",
      "47/47 [==============================] - 1s 11ms/step - loss: 0.6925 - acc: 0.5907 - val_loss: 0.6186 - val_acc: 0.6573\n",
      "Epoch 2/6\n",
      "47/47 [==============================] - 0s 6ms/step - loss: 0.5245 - acc: 0.7500 - val_loss: 0.6090 - val_acc: 0.6673\n",
      "Epoch 3/6\n",
      "47/47 [==============================] - 0s 6ms/step - loss: 0.4504 - acc: 0.8112 - val_loss: 0.5855 - val_acc: 0.6880\n",
      "Epoch 4/6\n",
      "47/47 [==============================] - 0s 6ms/step - loss: 0.3977 - acc: 0.8417 - val_loss: 0.5799 - val_acc: 0.6960\n",
      "Epoch 5/6\n",
      "47/47 [==============================] - 0s 7ms/step - loss: 0.3576 - acc: 0.8663 - val_loss: 0.5831 - val_acc: 0.6933\n",
      "Epoch 6/6\n",
      "47/47 [==============================] - 0s 7ms/step - loss: 0.3253 - acc: 0.8908 - val_loss: 0.5698 - val_acc: 0.6953\n",
      "Epoch 1/6\n",
      "47/47 [==============================] - 0s 10ms/step - loss: 0.6423 - acc: 0.6285 - val_loss: 0.6191 - val_acc: 0.6573\n",
      "Epoch 2/6\n",
      "47/47 [==============================] - 0s 6ms/step - loss: 0.5984 - acc: 0.6852 - val_loss: 0.6043 - val_acc: 0.6747\n",
      "Epoch 3/6\n",
      "47/47 [==============================] - 0s 6ms/step - loss: 0.5762 - acc: 0.7098 - val_loss: 0.5959 - val_acc: 0.6807\n",
      "Epoch 4/6\n",
      "47/47 [==============================] - 0s 4ms/step - loss: 0.5591 - acc: 0.7230 - val_loss: 0.5921 - val_acc: 0.6833\n",
      "Epoch 5/6\n",
      "47/47 [==============================] - 0s 4ms/step - loss: 0.5438 - acc: 0.7345 - val_loss: 0.5952 - val_acc: 0.6767\n",
      "Epoch 6/6\n",
      "47/47 [==============================] - 0s 3ms/step - loss: 0.5334 - acc: 0.7473 - val_loss: 0.5890 - val_acc: 0.6900\n",
      "Epoch 1/6\n",
      "47/47 [==============================] - 0s 6ms/step - loss: 0.4419 - acc: 0.8020 - val_loss: 0.6203 - val_acc: 0.6907\n",
      "Epoch 2/6\n",
      "47/47 [==============================] - 0s 3ms/step - loss: 0.4067 - acc: 0.8325 - val_loss: 0.6233 - val_acc: 0.6807\n",
      "Epoch 3/6\n",
      "47/47 [==============================] - 0s 3ms/step - loss: 0.3788 - acc: 0.8538 - val_loss: 0.6266 - val_acc: 0.6807\n",
      "Epoch 4/6\n",
      "47/47 [==============================] - 0s 3ms/step - loss: 0.3609 - acc: 0.8668 - val_loss: 0.6341 - val_acc: 0.6767\n",
      "Epoch 5/6\n",
      "47/47 [==============================] - 0s 4ms/step - loss: 0.3476 - acc: 0.8740 - val_loss: 0.6476 - val_acc: 0.6653\n",
      "Epoch 6/6\n",
      "47/47 [==============================] - 0s 3ms/step - loss: 0.3341 - acc: 0.8825 - val_loss: 0.6486 - val_acc: 0.6740\n"
     ]
    }
   ],
   "source": [
    "hist = [[]] * 3\n",
    "\n",
    "for i in range(3):\n",
    "    hist[i] = model.fit(\n",
    "        X_train[i], y_train[i],\n",
    "        batch_size = 128,\n",
    "        epochs = 6,\n",
    "        verbose = 1,\n",
    "        validation_split = 0.2\n",
    "    )"
   ]
  },
  {
   "cell_type": "code",
   "execution_count": 46,
   "metadata": {},
   "outputs": [
    {
     "name": "stdout",
     "output_type": "stream",
     "text": [
      "235/235 [==============================] - 0s 970us/step - loss: 0.3632 - acc: 0.8519\n",
      "235/235 [==============================] - 0s 751us/step - loss: 0.5615 - acc: 0.7179\n",
      "235/235 [==============================] - 0s 851us/step - loss: 0.3843 - acc: 0.8493\n",
      "\n",
      "dataset 1: loss - 0.36317798495292664, acc - 0.8518666625022888\n",
      "\n",
      "dataset 2: loss - 0.5614890456199646, acc - 0.7178666591644287\n",
      "\n",
      "dataset 3: loss - 0.384299099445343, acc - 0.8493333458900452\n"
     ]
    }
   ],
   "source": [
    "loss = [[]] * 3\n",
    "acc = [[]] * 3\n",
    "\n",
    "for i in range(3):\n",
    "    loss[i], acc[i] = model.evaluate(\n",
    "        X_train[i], y_train[i],\n",
    "        verbose = 1\n",
    "    )\n",
    "\n",
    "for i in range(3):\n",
    "    print('\\ndataset {}: loss - {}, acc - {}'.format(i+1, loss[i], acc[i]))"
   ]
  },
  {
   "cell_type": "code",
   "execution_count": 47,
   "metadata": {},
   "outputs": [
    {
     "name": "stdout",
     "output_type": "stream",
     "text": [
      "79/79 [==============================] - 0s 926us/step - loss: 0.6849 - acc: 0.6900\n",
      "79/79 [==============================] - 0s 886us/step - loss: 0.6355 - acc: 0.6488\n",
      "79/79 [==============================] - 0s 814us/step - loss: 0.6645 - acc: 0.6684\n",
      "\n",
      "dataset 1: loss - 0.6849325895309448, acc - 0.6899999976158142\n",
      "\n",
      "dataset 2: loss - 0.6354695558547974, acc - 0.6488000154495239\n",
      "\n",
      "dataset 3: loss - 0.6644997000694275, acc - 0.66839998960495\n"
     ]
    }
   ],
   "source": [
    "loss = [[]] * 3\n",
    "acc = [[]] * 3\n",
    "\n",
    "for i in range(3):\n",
    "    loss[i], acc[i] = model.evaluate(\n",
    "        X_test[i], y_test[i],\n",
    "        verbose = 1\n",
    "    )\n",
    "    \n",
    "for i in range(3):\n",
    "    print('\\ndataset {}: loss - {}, acc - {}'.format(i+1, loss[i], acc[i]))"
   ]
  },
  {
   "cell_type": "code",
   "execution_count": 48,
   "metadata": {},
   "outputs": [
    {
     "data": {
      "image/png": "[encoded data removed]",
      "text/plain": [
       "<Figure size 864x576 with 1 Axes>"
      ]
     },
     "metadata": {
      "needs_background": "light"
     },
     "output_type": "display_data"
    },
    {
     "data": {
      "image/png": "[encoded data removed]",
      "text/plain": [
       "<Figure size 864x576 with 1 Axes>"
      ]
     },
     "metadata": {
      "needs_background": "light"
     },
     "output_type": "display_data"
    },
    {
     "data": {
      "image/png": "[encoded data removed]",
      "text/plain": [
       "<Figure size 864x576 with 1 Axes>"
      ]
     },
     "metadata": {
      "needs_background": "light"
     },
     "output_type": "display_data"
    }
   ],
   "source": [
    "for i in range(3):\n",
    "    plt.figure(figsize=(12, 8))\n",
    "    plt.subplot(3, 3, i+1)\n",
    "    plt.title('model accuracy')\n",
    "    plt.xlabel('epoch')\n",
    "    plt.ylabel('accuracy')\n",
    "    plt.legend(['train', 'test'], loc = 'upper left')\n",
    "    plt.plot(hist[i].history['acc'])\n",
    "    plt.plot(hist[i].history['val_acc'])\n",
    "    plt.tight_layout(pad=1.0)\n",
    "\n",
    "plt.show()"
   ]
  },
  {
   "cell_type": "code",
   "execution_count": 49,
   "metadata": {
    "scrolled": true
   },
   "outputs": [
    {
     "data": {
      "image/png": "[encoded data removed]",
      "text/plain": [
       "<Figure size 864x576 with 1 Axes>"
      ]
     },
     "metadata": {
      "needs_background": "light"
     },
     "output_type": "display_data"
    },
    {
     "data": {
      "image/png": "[encoded data removed]",
      "text/plain": [
       "<Figure size 864x576 with 1 Axes>"
      ]
     },
     "metadata": {
      "needs_background": "light"
     },
     "output_type": "display_data"
    },
    {
     "data": {
      "image/png": "[encoded data removed]",
      "text/plain": [
       "<Figure size 864x576 with 1 Axes>"
      ]
     },
     "metadata": {
      "needs_background": "light"
     },
     "output_type": "display_data"
    }
   ],
   "source": [
    "for i in range(3):\n",
    "    plt.figure(figsize=(12, 8))\n",
    "    plt.subplot(3, 3, i+1)\n",
    "    plt.title('model loss')\n",
    "    plt.xlabel('epoch')\n",
    "    plt.ylabel('loss')\n",
    "    plt.legend(['train', 'test'], loc = 'upper right')\n",
    "    plt.plot(hist[i].history['loss'])\n",
    "    plt.plot(hist[i].history['val_loss'])\n",
    "    plt.tight_layout(pad=1.0)\n",
    "\n",
    "plt.show()"
   ]
  },
  {
   "cell_type": "markdown",
   "metadata": {},
   "source": [
    "## Text Classification with CNN"
   ]
  },
  {
   "cell_type": "markdown",
   "metadata": {},
   "source": [
    "## Text Classification with LSTM"
   ]
  },
  {
   "cell_type": "code",
   "execution_count": 50,
   "metadata": {},
   "outputs": [],
   "source": [
    "model = Sequential()\n",
    "embed_layer = Embedding(\n",
    "    vocab_size, 100,\n",
    "    weights = [embed_matrix],\n",
    "    input_length = maxlen,\n",
    "    trainable = False\n",
    ")\n",
    "model.add(embed_layer)\n",
    "model.add(LSTM(128))"
   ]
  },
  {
   "cell_type": "code",
   "execution_count": 51,
   "metadata": {},
   "outputs": [],
   "source": [
    "model.add(\n",
    "    Dense(\n",
    "        1,\n",
    "        activation = 'sigmoid'\n",
    "    )\n",
    ")\n",
    "model.compile(\n",
    "    optimizer = 'adam',\n",
    "    loss = 'binary_crossentropy',\n",
    "    metrics = ['acc']\n",
    ")"
   ]
  },
  {
   "cell_type": "code",
   "execution_count": 52,
   "metadata": {},
   "outputs": [
    {
     "name": "stdout",
     "output_type": "stream",
     "text": [
      "Model: \"sequential_1\"\n",
      "_________________________________________________________________\n",
      "Layer (type)                 Output Shape              Param #   \n",
      "=================================================================\n",
      "embedding_1 (Embedding)      (None, 100, 100)          5796100   \n",
      "_________________________________________________________________\n",
      "lstm (LSTM)                  (None, 128)               117248    \n",
      "_________________________________________________________________\n",
      "dense_1 (Dense)              (None, 1)                 129       \n",
      "=================================================================\n",
      "Total params: 5,913,477\n",
      "Trainable params: 117,377\n",
      "Non-trainable params: 5,796,100\n",
      "_________________________________________________________________\n"
     ]
    }
   ],
   "source": [
    "model.summary()"
   ]
  },
  {
   "cell_type": "code",
   "execution_count": 53,
   "metadata": {},
   "outputs": [
    {
     "name": "stdout",
     "output_type": "stream",
     "text": [
      "Epoch 1/6\n",
      "47/47 [==============================] - 15s 316ms/step - loss: 0.6483 - acc: 0.6265 - val_loss: 0.6020 - val_acc: 0.6927\n",
      "Epoch 2/6\n",
      "47/47 [==============================] - 12s 264ms/step - loss: 0.5519 - acc: 0.7228 - val_loss: 0.5181 - val_acc: 0.7513\n",
      "Epoch 3/6\n",
      "47/47 [==============================] - 12s 265ms/step - loss: 0.5213 - acc: 0.7433 - val_loss: 0.4885 - val_acc: 0.7720\n",
      "Epoch 4/6\n",
      "47/47 [==============================] - 16s 343ms/step - loss: 0.4878 - acc: 0.7667 - val_loss: 0.4597 - val_acc: 0.7820\n",
      "Epoch 5/6\n",
      "47/47 [==============================] - 15s 326ms/step - loss: 0.4814 - acc: 0.7710 - val_loss: 0.4490 - val_acc: 0.7940\n",
      "Epoch 6/6\n",
      "47/47 [==============================] - 15s 327ms/step - loss: 0.4499 - acc: 0.7865 - val_loss: 0.4345 - val_acc: 0.7993\n",
      "Epoch 1/6\n",
      "47/47 [==============================] - 15s 326ms/step - loss: 0.6827 - acc: 0.5827 - val_loss: 0.6824 - val_acc: 0.5733\n",
      "Epoch 2/6\n",
      "47/47 [==============================] - 22s 458ms/step - loss: 0.6818 - acc: 0.5785 - val_loss: 0.6823 - val_acc: 0.5733\n",
      "Epoch 3/6\n",
      "47/47 [==============================] - 18s 381ms/step - loss: 0.6809 - acc: 0.5785 - val_loss: 0.6824 - val_acc: 0.5733\n",
      "Epoch 4/6\n",
      "47/47 [==============================] - 15s 318ms/step - loss: 0.6809 - acc: 0.5785 - val_loss: 0.6823 - val_acc: 0.5733\n",
      "Epoch 5/6\n",
      "47/47 [==============================] - 16s 333ms/step - loss: 0.6809 - acc: 0.5785 - val_loss: 0.6819 - val_acc: 0.5733\n",
      "Epoch 6/6\n",
      "47/47 [==============================] - 11s 227ms/step - loss: 0.6574 - acc: 0.6202 - val_loss: 0.6242 - val_acc: 0.6807\n",
      "Epoch 1/6\n",
      "47/47 [==============================] - 12s 265ms/step - loss: 0.5510 - acc: 0.7248 - val_loss: 0.5969 - val_acc: 0.6820\n",
      "Epoch 2/6\n",
      "47/47 [==============================] - 7s 157ms/step - loss: 0.5251 - acc: 0.7422 - val_loss: 0.5594 - val_acc: 0.7140\n",
      "Epoch 3/6\n",
      "47/47 [==============================] - 9s 181ms/step - loss: 0.5286 - acc: 0.7397 - val_loss: 0.5892 - val_acc: 0.6840\n",
      "Epoch 4/6\n",
      "47/47 [==============================] - 8s 162ms/step - loss: 0.5039 - acc: 0.7555 - val_loss: 0.5427 - val_acc: 0.7367\n",
      "Epoch 5/6\n",
      "47/47 [==============================] - 7s 154ms/step - loss: 0.4793 - acc: 0.7735 - val_loss: 0.5487 - val_acc: 0.7213\n",
      "Epoch 6/6\n",
      "47/47 [==============================] - 8s 179ms/step - loss: 0.4757 - acc: 0.7830 - val_loss: 0.5506 - val_acc: 0.7447\n"
     ]
    }
   ],
   "source": [
    "hist = [[]] * 3\n",
    "\n",
    "for i in range(3):\n",
    "    hist[i] = model.fit(\n",
    "        X_train[i], y_train[i],\n",
    "        batch_size = 128,\n",
    "        epochs = 6,\n",
    "        verbose = 1,\n",
    "        validation_split = 0.2\n",
    "    )"
   ]
  },
  {
   "cell_type": "code",
   "execution_count": 54,
   "metadata": {
    "scrolled": true
   },
   "outputs": [
    {
     "name": "stdout",
     "output_type": "stream",
     "text": [
      "235/235 [==============================] - 6s 27ms/step - loss: 0.4178 - acc: 0.8145\n",
      "235/235 [==============================] - 5s 21ms/step - loss: 0.5735 - acc: 0.7364\n",
      "235/235 [==============================] - 5s 20ms/step - loss: 0.4731 - acc: 0.7789\n",
      "\n",
      "dataset 1: loss - 0.4177885949611664, acc - 0.8145333528518677\n",
      "\n",
      "dataset 2: loss - 0.5735248327255249, acc - 0.7364000082015991\n",
      "\n",
      "dataset 3: loss - 0.47305428981781006, acc - 0.7789333462715149\n"
     ]
    }
   ],
   "source": [
    "loss = [[]] * 3\n",
    "acc = [[]] * 3\n",
    "\n",
    "for i in range(3):\n",
    "    loss[i], acc[i] = model.evaluate(\n",
    "        X_train[i], y_train[i],\n",
    "        verbose = 1\n",
    "    )\n",
    "\n",
    "for i in range(3):\n",
    "    print('\\ndataset {}: loss - {}, acc - {}'.format(i+1, loss[i], acc[i]))"
   ]
  },
  {
   "cell_type": "code",
   "execution_count": 55,
   "metadata": {},
   "outputs": [
    {
     "name": "stdout",
     "output_type": "stream",
     "text": [
      "79/79 [==============================] - 2s 22ms/step - loss: 0.4927 - acc: 0.7760\n",
      "79/79 [==============================] - 2s 31ms/step - loss: 0.5941 - acc: 0.7204\n",
      "79/79 [==============================] - 2s 20ms/step - loss: 0.5383 - acc: 0.7452\n",
      "\n",
      "dataset 1: loss - 0.49267593026161194, acc - 0.7760000228881836\n",
      "\n",
      "dataset 2: loss - 0.5940758585929871, acc - 0.7203999757766724\n",
      "\n",
      "dataset 3: loss - 0.5382635593414307, acc - 0.745199978351593\n"
     ]
    }
   ],
   "source": [
    "loss = [[]] * 3\n",
    "acc = [[]] * 3\n",
    "\n",
    "for i in range(3):\n",
    "    loss[i], acc[i] = model.evaluate(\n",
    "        X_test[i], y_test[i],\n",
    "        verbose = 1\n",
    "    )\n",
    "    \n",
    "for i in range(3):\n",
    "    print('\\ndataset {}: loss - {}, acc - {}'.format(i+1, loss[i], acc[i]))"
   ]
  },
  {
   "cell_type": "code",
   "execution_count": 56,
   "metadata": {},
   "outputs": [
    {
     "data": {
      "image/png": "[encoded data removed]",
      "text/plain": [
       "<Figure size 864x576 with 1 Axes>"
      ]
     },
     "metadata": {
      "needs_background": "light"
     },
     "output_type": "display_data"
    },
    {
     "data": {
      "image/png": "[encoded data removed]",
      "text/plain": [
       "<Figure size 864x576 with 1 Axes>"
      ]
     },
     "metadata": {
      "needs_background": "light"
     },
     "output_type": "display_data"
    },
    {
     "data": {
      "image/png": "[encoded data removed]",
      "text/plain": [
       "<Figure size 864x576 with 1 Axes>"
      ]
     },
     "metadata": {
      "needs_background": "light"
     },
     "output_type": "display_data"
    }
   ],
   "source": [
    "for i in range(3):\n",
    "    plt.figure(figsize=(12, 8))\n",
    "    plt.subplot(3, 3, i+1)\n",
    "    plt.title('model accuracy')\n",
    "    plt.xlabel('epoch')\n",
    "    plt.ylabel('accuracy')\n",
    "    plt.legend(['train', 'test'], loc = 'upper left')\n",
    "    plt.plot(hist[i].history['acc'])\n",
    "    plt.plot(hist[i].history['val_acc'])\n",
    "    plt.tight_layout(pad=1.0)\n",
    "\n",
    "plt.show()"
   ]
  },
  {
   "cell_type": "code",
   "execution_count": 57,
   "metadata": {},
   "outputs": [
    {
     "data": {
      "image/png": "[encoded data removed]",
      "text/plain": [
       "<Figure size 864x576 with 1 Axes>"
      ]
     },
     "metadata": {
      "needs_background": "light"
     },
     "output_type": "display_data"
    },
    {
     "data": {
      "image/png": "[encoded data removed]",
      "text/plain": [
       "<Figure size 864x576 with 1 Axes>"
      ]
     },
     "metadata": {
      "needs_background": "light"
     },
     "output_type": "display_data"
    },
    {
     "data": {
      "image/png": "[encoded data removed]",
      "text/plain": [
       "<Figure size 864x576 with 1 Axes>"
      ]
     },
     "metadata": {
      "needs_background": "light"
     },
     "output_type": "display_data"
    }
   ],
   "source": [
    "for i in range(3):\n",
    "    plt.figure(figsize=(12, 8))\n",
    "    plt.subplot(3, 3, i+1)\n",
    "    plt.title('model loss')\n",
    "    plt.xlabel('epoch')\n",
    "    plt.ylabel('loss')\n",
    "    plt.legend(['train', 'test'], loc = 'upper right')\n",
    "    plt.plot(hist[i].history['loss'])\n",
    "    plt.plot(hist[i].history['val_loss'])\n",
    "    plt.tight_layout(pad=1.0)\n",
    "\n",
    "plt.show()"
   ]
  },
  {
   "cell_type": "markdown",
   "metadata": {},
   "source": [
    "## Text Classification with Bi-Directional LSTM"
   ]
  },
  {
   "cell_type": "code",
   "execution_count": 58,
   "metadata": {},
   "outputs": [],
   "source": [
    "from keras.layers import TimeDistributed\n",
    "from keras.layers import Bidirectional\n",
    "\n",
    "model = Sequential()\n",
    "embed_layer = Embedding(\n",
    "    vocab_size,\n",
    "    100,\n",
    "    weights = [embed_matrix],\n",
    "    input_length = maxlen,\n",
    "    trainable = False\n",
    ")\n",
    "model.add(embed_layer)\n",
    "model.add(\n",
    "    Bidirectional(\n",
    "        LSTM(\n",
    "            100,\n",
    "            return_sequences = True,\n",
    "            dropout = 0.50\n",
    "        ),\n",
    "        merge_mode = 'concat'\n",
    "    )\n",
    ")\n",
    "model.add(\n",
    "    TimeDistributed(\n",
    "        Dense(\n",
    "            100,\n",
    "            activation = 'sigmoid'\n",
    "        )\n",
    "    )\n",
    ")\n",
    "model.add(Flatten())"
   ]
  },
  {
   "cell_type": "code",
   "execution_count": 59,
   "metadata": {},
   "outputs": [],
   "source": [
    "model.add(\n",
    "    Dense(\n",
    "        100,\n",
    "        activation = 'sigmoid'\n",
    "    )\n",
    ")\n",
    "model.add(\n",
    "    Dense(\n",
    "        3,\n",
    "        activation = 'softmax'\n",
    "    )\n",
    ")\n",
    "model.compile(\n",
    "    optimizer = 'adam',\n",
    "    loss = 'binary_crossentropy',\n",
    "    metrics = ['acc']\n",
    ")"
   ]
  },
  {
   "cell_type": "code",
   "execution_count": 60,
   "metadata": {},
   "outputs": [
    {
     "name": "stdout",
     "output_type": "stream",
     "text": [
      "Model: \"sequential_2\"\n",
      "_________________________________________________________________\n",
      "Layer (type)                 Output Shape              Param #   \n",
      "=================================================================\n",
      "embedding_2 (Embedding)      (None, 100, 100)          5796100   \n",
      "_________________________________________________________________\n",
      "bidirectional (Bidirectional (None, 100, 200)          160800    \n",
      "_________________________________________________________________\n",
      "time_distributed (TimeDistri (None, 100, 100)          20100     \n",
      "_________________________________________________________________\n",
      "flatten_1 (Flatten)          (None, 10000)             0         \n",
      "_________________________________________________________________\n",
      "dense_3 (Dense)              (None, 100)               1000100   \n",
      "_________________________________________________________________\n",
      "dense_4 (Dense)              (None, 3)                 303       \n",
      "=================================================================\n",
      "Total params: 6,977,403\n",
      "Trainable params: 1,181,303\n",
      "Non-trainable params: 5,796,100\n",
      "_________________________________________________________________\n"
     ]
    }
   ],
   "source": [
    "model.summary()"
   ]
  },
  {
   "cell_type": "code",
   "execution_count": 61,
   "metadata": {},
   "outputs": [
    {
     "name": "stdout",
     "output_type": "stream",
     "text": [
      "Epoch 1/6\n",
      "47/47 [==============================] - 11s 236ms/step - loss: 1.2885 - acc: 0.4260 - val_loss: 1.0186 - val_acc: 0.4960\n",
      "Epoch 2/6\n",
      "47/47 [==============================] - 11s 230ms/step - loss: 0.8285 - acc: 0.5027 - val_loss: 0.7553 - val_acc: 0.5040\n",
      "Epoch 3/6\n",
      "47/47 [==============================] - 13s 271ms/step - loss: 0.7515 - acc: 0.3962 - val_loss: 0.7548 - val_acc: 0.4960\n",
      "Epoch 4/6\n",
      "47/47 [==============================] - 10s 223ms/step - loss: 0.7511 - acc: 0.4935 - val_loss: 0.7548 - val_acc: 0.5040\n",
      "Epoch 5/6\n",
      "47/47 [==============================] - 14s 300ms/step - loss: 0.7511 - acc: 0.4188 - val_loss: 0.7548 - val_acc: 0.5040\n",
      "Epoch 6/6\n",
      "47/47 [==============================] - 15s 310ms/step - loss: 0.7511 - acc: 0.4118 - val_loss: 0.7548 - val_acc: 0.4960\n",
      "Epoch 1/6\n",
      "47/47 [==============================] - 13s 269ms/step - loss: 0.6976 - acc: 0.4300 - val_loss: 0.7012 - val_acc: 0.5373\n",
      "Epoch 2/6\n",
      "47/47 [==============================] - 10s 218ms/step - loss: 0.6976 - acc: 0.5028 - val_loss: 0.7012 - val_acc: 0.3733\n",
      "Epoch 3/6\n",
      "47/47 [==============================] - 11s 237ms/step - loss: 0.6976 - acc: 0.4033 - val_loss: 0.7012 - val_acc: 0.3067\n",
      "Epoch 4/6\n",
      "47/47 [==============================] - 12s 245ms/step - loss: 0.6976 - acc: 0.3672 - val_loss: 0.7012 - val_acc: 0.3067\n",
      "Epoch 5/6\n",
      "47/47 [==============================] - 14s 288ms/step - loss: 0.6976 - acc: 0.4152 - val_loss: 0.7012 - val_acc: 0.3507\n",
      "Epoch 6/6\n",
      "47/47 [==============================] - 15s 325ms/step - loss: 0.6976 - acc: 0.3313 - val_loss: 0.7012 - val_acc: 0.3060\n",
      "Epoch 1/6\n",
      "47/47 [==============================] - 16s 337ms/step - loss: 0.7667 - acc: 0.2237 - val_loss: 0.7788 - val_acc: 0.2320\n",
      "Epoch 2/6\n",
      "47/47 [==============================] - 16s 335ms/step - loss: 0.7667 - acc: 0.2307 - val_loss: 0.7788 - val_acc: 0.2333\n",
      "Epoch 3/6\n",
      "47/47 [==============================] - 23s 497ms/step - loss: 0.7667 - acc: 0.2303 - val_loss: 0.7788 - val_acc: 0.2333\n",
      "Epoch 4/6\n",
      "47/47 [==============================] - 17s 360ms/step - loss: 0.7667 - acc: 0.2307 - val_loss: 0.7788 - val_acc: 0.2333\n",
      "Epoch 5/6\n",
      "47/47 [==============================] - 15s 317ms/step - loss: 0.7667 - acc: 0.2310 - val_loss: 0.7788 - val_acc: 0.2327\n",
      "Epoch 6/6\n",
      "47/47 [==============================] - 15s 309ms/step - loss: 0.7667 - acc: 0.2307 - val_loss: 0.7788 - val_acc: 0.2333\n"
     ]
    }
   ],
   "source": [
    "hist = [[]] * 3\n",
    "\n",
    "for i in range(3):\n",
    "    hist[i] = model.fit(\n",
    "        X_train[i], y_train[i],\n",
    "        batch_size = 128,\n",
    "        epochs = 6,\n",
    "        verbose = 1,\n",
    "        validation_split = 0.2\n",
    "    )"
   ]
  },
  {
   "cell_type": "code",
   "execution_count": 62,
   "metadata": {},
   "outputs": [
    {
     "name": "stdout",
     "output_type": "stream",
     "text": [
      "235/235 [==============================] - 9s 40ms/step - loss: 0.7519 - acc: 0.0108\n",
      "235/235 [==============================] - 6s 24ms/step - loss: 0.6983 - acc: 0.5775\n",
      "235/235 [==============================] - 5s 23ms/step - loss: 0.7691 - acc: 0.2293\n",
      "\n",
      "dataset 1: loss - 0.7518537640571594, acc - 0.01080000028014183\n",
      "\n",
      "dataset 2: loss - 0.6983428597450256, acc - 0.5774666666984558\n",
      "\n",
      "dataset 3: loss - 0.7691359519958496, acc - 0.2293333262205124\n"
     ]
    }
   ],
   "source": [
    "loss = [[]] * 3\n",
    "acc = [[]] * 3\n",
    "\n",
    "for i in range(3):\n",
    "    loss[i], acc[i] = model.evaluate(\n",
    "        X_train[i], y_train[i],\n",
    "        verbose = 1\n",
    "    )\n",
    "\n",
    "for i in range(3):\n",
    "    print('\\ndataset {}: loss - {}, acc - {}'.format(i+1, loss[i], acc[i]))"
   ]
  },
  {
   "cell_type": "code",
   "execution_count": 63,
   "metadata": {},
   "outputs": [
    {
     "name": "stdout",
     "output_type": "stream",
     "text": [
      "79/79 [==============================] - 2s 21ms/step - loss: 0.7604 - acc: 0.0092\n",
      "79/79 [==============================] - 2s 27ms/step - loss: 0.6880 - acc: 0.5920\n",
      "79/79 [==============================] - 2s 25ms/step - loss: 0.7592 - acc: 0.2380\n",
      "\n",
      "dataset 1: loss - 0.760356068611145, acc - 0.009200000204145908\n",
      "\n",
      "dataset 2: loss - 0.6879917979240417, acc - 0.5920000076293945\n",
      "\n",
      "dataset 3: loss - 0.7592472434043884, acc - 0.23800000548362732\n"
     ]
    }
   ],
   "source": [
    "loss = [[]] * 3\n",
    "acc = [[]] * 3\n",
    "\n",
    "for i in range(3):\n",
    "    loss[i], acc[i] = model.evaluate(\n",
    "        X_test[i], y_test[i],\n",
    "        verbose = 1\n",
    "    )\n",
    "    \n",
    "for i in range(3):\n",
    "    print('\\ndataset {}: loss - {}, acc - {}'.format(i+1, loss[i], acc[i]))"
   ]
  },
  {
   "cell_type": "code",
   "execution_count": 64,
   "metadata": {},
   "outputs": [
    {
     "data": {
      "image/png": "[encoded data removed]",
      "text/plain": [
       "<Figure size 864x576 with 1 Axes>"
      ]
     },
     "metadata": {
      "needs_background": "light"
     },
     "output_type": "display_data"
    },
    {
     "data": {
      "image/png": "[encoded data removed]",
      "text/plain": [
       "<Figure size 864x576 with 1 Axes>"
      ]
     },
     "metadata": {
      "needs_background": "light"
     },
     "output_type": "display_data"
    },
    {
     "data": {
      "image/png": "[encoded data removed]",
      "text/plain": [
       "<Figure size 864x576 with 1 Axes>"
      ]
     },
     "metadata": {
      "needs_background": "light"
     },
     "output_type": "display_data"
    }
   ],
   "source": [
    "for i in range(3):\n",
    "    plt.figure(figsize=(12, 8))\n",
    "    plt.subplot(3, 3, i+1)\n",
    "    plt.title('model accuracy')\n",
    "    plt.xlabel('epoch')\n",
    "    plt.ylabel('accuracy')\n",
    "    plt.legend(['train', 'test'], loc = 'upper left')\n",
    "    plt.plot(hist[i].history['acc'])\n",
    "    plt.plot(hist[i].history['val_acc'])\n",
    "    plt.tight_layout(pad=1.0)\n",
    "\n",
    "plt.show()"
   ]
  },
  {
   "cell_type": "code",
   "execution_count": 65,
   "metadata": {},
   "outputs": [
    {
     "data": {
      "image/png": "[encoded data removed]",
      "text/plain": [
       "<Figure size 864x576 with 1 Axes>"
      ]
     },
     "metadata": {
      "needs_background": "light"
     },
     "output_type": "display_data"
    },
    {
     "data": {
      "image/png": "[encoded data removed]",
      "text/plain": [
       "<Figure size 864x576 with 1 Axes>"
      ]
     },
     "metadata": {
      "needs_background": "light"
     },
     "output_type": "display_data"
    },
    {
     "data": {
      "image/png": "[encoded data removed]",
      "text/plain": [
       "<Figure size 864x576 with 1 Axes>"
      ]
     },
     "metadata": {
      "needs_background": "light"
     },
     "output_type": "display_data"
    }
   ],
   "source": [
    "for i in range(3):\n",
    "    plt.figure(figsize=(12, 8))\n",
    "    plt.subplot(3, 3, i+1)\n",
    "    plt.title('model loss')\n",
    "    plt.xlabel('epoch')\n",
    "    plt.ylabel('loss')\n",
    "    plt.legend(['train', 'test'], loc = 'upper right')\n",
    "    plt.plot(hist[i].history['loss'])\n",
    "    plt.plot(hist[i].history['val_loss'])\n",
    "    plt.tight_layout(pad=1.0)\n",
    "\n",
    "plt.show()"
   ]
  },
  {
   "cell_type": "markdown",
   "metadata": {},
   "source": [
    "## Text Classification with GRU"
   ]
  },
  {
   "cell_type": "code",
   "execution_count": 66,
   "metadata": {},
   "outputs": [],
   "source": [
    "from keras.layers.recurrent import GRU"
   ]
  },
  {
   "cell_type": "code",
   "execution_count": 67,
   "metadata": {},
   "outputs": [],
   "source": [
    "model = Sequential()\n",
    "embed_layer = Embedding(\n",
    "    vocab_size, 100,\n",
    "    weights = [embed_matrix],\n",
    "    input_length = maxlen,\n",
    "    trainable = False\n",
    ")\n",
    "model.add(embed_layer)\n",
    "model.add(\n",
    "    GRU(256)\n",
    ")"
   ]
  },
  {
   "cell_type": "code",
   "execution_count": 68,
   "metadata": {},
   "outputs": [],
   "source": [
    "model.add(\n",
    "    Dense(\n",
    "        1,\n",
    "        activation = 'sigmoid'\n",
    "    )\n",
    ")\n",
    "model.compile(\n",
    "    optimizer = 'adam',\n",
    "    loss = 'binary_crossentropy',\n",
    "    metrics = ['acc']\n",
    ")"
   ]
  },
  {
   "cell_type": "code",
   "execution_count": 69,
   "metadata": {},
   "outputs": [
    {
     "name": "stdout",
     "output_type": "stream",
     "text": [
      "Model: \"sequential_3\"\n",
      "_________________________________________________________________\n",
      "Layer (type)                 Output Shape              Param #   \n",
      "=================================================================\n",
      "embedding_3 (Embedding)      (None, 100, 100)          5796100   \n",
      "_________________________________________________________________\n",
      "gru (GRU)                    (None, 256)               274944    \n",
      "_________________________________________________________________\n",
      "dense_5 (Dense)              (None, 1)                 257       \n",
      "=================================================================\n",
      "Total params: 6,071,301\n",
      "Trainable params: 275,201\n",
      "Non-trainable params: 5,796,100\n",
      "_________________________________________________________________\n"
     ]
    }
   ],
   "source": [
    "model.summary()"
   ]
  },
  {
   "cell_type": "code",
   "execution_count": 70,
   "metadata": {},
   "outputs": [
    {
     "name": "stdout",
     "output_type": "stream",
     "text": [
      "Epoch 1/6\n",
      "47/47 [==============================] - 14s 306ms/step - loss: 0.6584 - acc: 0.6063 - val_loss: 0.6503 - val_acc: 0.6140\n",
      "Epoch 2/6\n",
      "47/47 [==============================] - 20s 433ms/step - loss: 0.5568 - acc: 0.7110 - val_loss: 0.5429 - val_acc: 0.7407\n",
      "Epoch 3/6\n",
      "47/47 [==============================] - 16s 347ms/step - loss: 0.4663 - acc: 0.7867 - val_loss: 0.4488 - val_acc: 0.8093\n",
      "Epoch 4/6\n",
      "47/47 [==============================] - 13s 281ms/step - loss: 0.4511 - acc: 0.7907 - val_loss: 0.4084 - val_acc: 0.8173\n",
      "Epoch 5/6\n",
      "47/47 [==============================] - 13s 272ms/step - loss: 0.3941 - acc: 0.8205 - val_loss: 0.4185 - val_acc: 0.8033\n",
      "Epoch 6/6\n",
      "47/47 [==============================] - 13s 277ms/step - loss: 0.3790 - acc: 0.8283 - val_loss: 0.3911 - val_acc: 0.8287\n",
      "Epoch 1/6\n",
      "47/47 [==============================] - 13s 272ms/step - loss: 0.6886 - acc: 0.5778 - val_loss: 0.6824 - val_acc: 0.5733\n",
      "Epoch 2/6\n",
      "47/47 [==============================] - 13s 270ms/step - loss: 0.6811 - acc: 0.5785 - val_loss: 0.6826 - val_acc: 0.5733\n",
      "Epoch 3/6\n",
      "47/47 [==============================] - 13s 287ms/step - loss: 0.6809 - acc: 0.5785 - val_loss: 0.6825 - val_acc: 0.5733\n",
      "Epoch 4/6\n",
      "47/47 [==============================] - 13s 270ms/step - loss: 0.6818 - acc: 0.5785 - val_loss: 0.6824 - val_acc: 0.5733\n",
      "Epoch 5/6\n",
      "47/47 [==============================] - 13s 286ms/step - loss: 0.6810 - acc: 0.5785 - val_loss: 0.6826 - val_acc: 0.5733\n",
      "Epoch 6/6\n",
      "47/47 [==============================] - 17s 361ms/step - loss: 0.6810 - acc: 0.5785 - val_loss: 0.6830 - val_acc: 0.5733\n",
      "Epoch 1/6\n",
      "47/47 [==============================] - 16s 342ms/step - loss: 0.6017 - acc: 0.6093 - val_loss: 0.5681 - val_acc: 0.6793\n",
      "Epoch 2/6\n",
      "47/47 [==============================] - 15s 317ms/step - loss: 0.5231 - acc: 0.7127 - val_loss: 0.5382 - val_acc: 0.6933\n",
      "Epoch 3/6\n",
      "47/47 [==============================] - 15s 330ms/step - loss: 0.5086 - acc: 0.7233 - val_loss: 0.5408 - val_acc: 0.7300\n",
      "Epoch 4/6\n",
      "47/47 [==============================] - 14s 298ms/step - loss: 0.4671 - acc: 0.7657 - val_loss: 0.5378 - val_acc: 0.7207\n",
      "Epoch 5/6\n",
      "47/47 [==============================] - 14s 298ms/step - loss: 0.4488 - acc: 0.7783 - val_loss: 0.5466 - val_acc: 0.7373\n",
      "Epoch 6/6\n",
      "47/47 [==============================] - 14s 288ms/step - loss: 0.4270 - acc: 0.7937 - val_loss: 0.5295 - val_acc: 0.7380\n"
     ]
    }
   ],
   "source": [
    "hist = [[]] * 3\n",
    "\n",
    "for i in range(3):\n",
    "    hist[i] = model.fit(\n",
    "        X_train[i], y_train[i],\n",
    "        batch_size = 128,\n",
    "        epochs = 6,\n",
    "        verbose = 1,\n",
    "        validation_split = 0.2\n",
    "    )"
   ]
  },
  {
   "cell_type": "code",
   "execution_count": 71,
   "metadata": {},
   "outputs": [
    {
     "name": "stdout",
     "output_type": "stream",
     "text": [
      "235/235 [==============================] - 9s 40ms/step - loss: 0.3470 - acc: 0.8504\n",
      "235/235 [==============================] - 8s 34ms/step - loss: 0.5689 - acc: 0.7211\n",
      "235/235 [==============================] - 8s 35ms/step - loss: 0.4250 - acc: 0.7913\n",
      "\n",
      "dataset 1: loss - 0.3470296859741211, acc - 0.8503999710083008\n",
      "\n",
      "dataset 2: loss - 0.568907618522644, acc - 0.7210666537284851\n",
      "\n",
      "dataset 3: loss - 0.42503830790519714, acc - 0.7913333177566528\n"
     ]
    }
   ],
   "source": [
    "loss = [[]] * 3\n",
    "acc = [[]] * 3\n",
    "\n",
    "for i in range(3):\n",
    "    loss[i], acc[i] = model.evaluate(\n",
    "        X_train[i], y_train[i],\n",
    "        verbose = 1\n",
    "    )\n",
    "\n",
    "for i in range(3):\n",
    "    print('\\ndataset {}: loss - {}, acc - {}'.format(i+1, loss[i], acc[i]))"
   ]
  },
  {
   "cell_type": "code",
   "execution_count": 72,
   "metadata": {},
   "outputs": [
    {
     "name": "stdout",
     "output_type": "stream",
     "text": [
      "79/79 [==============================] - 3s 35ms/step - loss: 0.4740 - acc: 0.7912\n",
      "79/79 [==============================] - 3s 35ms/step - loss: 0.5991 - acc: 0.7052\n",
      "79/79 [==============================] - 3s 32ms/step - loss: 0.5362 - acc: 0.7384\n",
      "\n",
      "dataset 1: loss - 0.4740312397480011, acc - 0.7911999821662903\n",
      "\n",
      "dataset 2: loss - 0.5990695357322693, acc - 0.7052000164985657\n",
      "\n",
      "dataset 3: loss - 0.5361627340316772, acc - 0.7383999824523926\n"
     ]
    }
   ],
   "source": [
    "loss = [[]] * 3\n",
    "acc = [[]] * 3\n",
    "\n",
    "for i in range(3):\n",
    "    loss[i], acc[i] = model.evaluate(\n",
    "        X_test[i], y_test[i],\n",
    "        verbose = 1\n",
    "    )\n",
    "    \n",
    "for i in range(3):\n",
    "    print('\\ndataset {}: loss - {}, acc - {}'.format(i+1, loss[i], acc[i]))"
   ]
  },
  {
   "cell_type": "code",
   "execution_count": 73,
   "metadata": {},
   "outputs": [
    {
     "data": {
      "image/png": "[encoded data removed]",
      "text/plain": [
       "<Figure size 864x576 with 1 Axes>"
      ]
     },
     "metadata": {
      "needs_background": "light"
     },
     "output_type": "display_data"
    },
    {
     "data": {
      "image/png": "[encoded data removed]",
      "text/plain": [
       "<Figure size 864x576 with 1 Axes>"
      ]
     },
     "metadata": {
      "needs_background": "light"
     },
     "output_type": "display_data"
    },
    {
     "data": {
      "image/png": "[encoded data removed]",
      "text/plain": [
       "<Figure size 864x576 with 1 Axes>"
      ]
     },
     "metadata": {
      "needs_background": "light"
     },
     "output_type": "display_data"
    }
   ],
   "source": [
    "for i in range(3):\n",
    "    plt.figure(figsize=(12, 8))\n",
    "    plt.subplot(3, 3, i+1)\n",
    "    plt.title('model accuracy')\n",
    "    plt.xlabel('epoch')\n",
    "    plt.ylabel('accuracy')\n",
    "    plt.legend(['train', 'test'], loc = 'upper left')\n",
    "    plt.plot(hist[i].history['acc'])\n",
    "    plt.plot(hist[i].history['val_acc'])\n",
    "    plt.tight_layout(pad=1.0)\n",
    "\n",
    "plt.show()"
   ]
  },
  {
   "cell_type": "code",
   "execution_count": 74,
   "metadata": {},
   "outputs": [
    {
     "data": {
      "image/png": "[encoded data removed]",
      "text/plain": [
       "<Figure size 864x576 with 1 Axes>"
      ]
     },
     "metadata": {
      "needs_background": "light"
     },
     "output_type": "display_data"
    },
    {
     "data": {
      "image/png": "[encoded data removed]",
      "text/plain": [
       "<Figure size 864x576 with 1 Axes>"
      ]
     },
     "metadata": {
      "needs_background": "light"
     },
     "output_type": "display_data"
    },
    {
     "data": {
      "image/png": "[encoded data removed]",
      "text/plain": [
       "<Figure size 864x576 with 1 Axes>"
      ]
     },
     "metadata": {
      "needs_background": "light"
     },
     "output_type": "display_data"
    }
   ],
   "source": [
    "for i in range(3):\n",
    "    plt.figure(figsize=(12, 8))\n",
    "    plt.subplot(3, 3, i+1)\n",
    "    plt.title('model loss')\n",
    "    plt.xlabel('epoch')\n",
    "    plt.ylabel('loss')\n",
    "    plt.legend(['train', 'test'], loc = 'upper right')\n",
    "    plt.plot(hist[i].history['loss'])\n",
    "    plt.plot(hist[i].history['val_loss'])\n",
    "    plt.tight_layout(pad=1.0)\n",
    "\n",
    "plt.show()"
   ]
  },
  {
   "cell_type": "code",
   "execution_count": 77,
   "metadata": {},
   "outputs": [
    {
     "name": "stdout",
     "output_type": "stream",
     "text": [
      "Model: \"sequential_5\"\n",
      "_________________________________________________________________\n",
      "Layer (type)                 Output Shape              Param #   \n",
      "=================================================================\n",
      "embedding_5 (Embedding)      (None, 100, 100)          5796100   \n",
      "_________________________________________________________________\n",
      "conv1d_2 (Conv1D)            (None, 96, 128)           64128     \n",
      "_________________________________________________________________\n",
      "global_max_pooling1d_1 (Glob (None, 128)               0         \n",
      "_________________________________________________________________\n",
      "dense_7 (Dense)              (None, 1)                 129       \n",
      "=================================================================\n",
      "Total params: 5,860,357\n",
      "Trainable params: 64,257\n",
      "Non-trainable params: 5,796,100\n",
      "_________________________________________________________________\n"
     ]
    }
   ],
   "source": [
    "model = Sequential()\n",
    "\n",
    "embed_layer = Embedding(\n",
    "    vocab_size, 100,\n",
    "    weights = [embed_matrix],\n",
    "    input_length = maxlen,\n",
    "    trainable = False\n",
    ")\n",
    "model.add(embed_layer)\n",
    "\n",
    "model.add(\n",
    "    Conv1D(128, 5,\n",
    "        activation = 'relu'\n",
    "    )\n",
    ")\n",
    "model.add(GlobalMaxPooling1D())\n",
    "model.add(\n",
    "    Dense(1,\n",
    "          activation = 'sigmoid'\n",
    "    )\n",
    ")\n",
    "\n",
    "model.compile(\n",
    "    optimizer = 'adam',\n",
    "    loss = 'binary_crossentropy',\n",
    "    metrics = ['accuracy']\n",
    ")\n",
    "model.summary()"
   ]
  },
  {
   "cell_type": "code",
   "execution_count": 78,
   "metadata": {},
   "outputs": [
    {
     "name": "stdout",
     "output_type": "stream",
     "text": [
      "INFO:tensorflow:Assets written to: model.m5/assets\n"
     ]
    }
   ],
   "source": [
    "model.save('model.m5')"
   ]
  },
  {
   "cell_type": "code",
   "execution_count": 79,
   "metadata": {},
   "outputs": [
    {
     "name": "stdout",
     "output_type": "stream",
     "text": [
      "Epoch 1/6\n",
      "47/47 [==============================] - 2s 42ms/step - loss: 0.6406 - accuracy: 0.6342 - val_loss: 0.5582 - val_accuracy: 0.7380\n",
      "Epoch 2/6\n",
      "47/47 [==============================] - 2s 51ms/step - loss: 0.4887 - accuracy: 0.8023 - val_loss: 0.4852 - val_accuracy: 0.7887\n",
      "Epoch 3/6\n",
      "47/47 [==============================] - 2s 45ms/step - loss: 0.4036 - accuracy: 0.8470 - val_loss: 0.4428 - val_accuracy: 0.8060\n",
      "Epoch 4/6\n",
      "47/47 [==============================] - 3s 58ms/step - loss: 0.3424 - accuracy: 0.8762 - val_loss: 0.4221 - val_accuracy: 0.8100\n",
      "Epoch 5/6\n",
      "47/47 [==============================] - 2s 41ms/step - loss: 0.2989 - accuracy: 0.8987 - val_loss: 0.4308 - val_accuracy: 0.7967\n",
      "Epoch 6/6\n",
      "47/47 [==============================] - 2s 42ms/step - loss: 0.2590 - accuracy: 0.9182 - val_loss: 0.4047 - val_accuracy: 0.8127\n",
      "Epoch 1/6\n",
      "47/47 [==============================] - 2s 40ms/step - loss: 0.6254 - accuracy: 0.6783 - val_loss: 0.5808 - val_accuracy: 0.6993\n",
      "Epoch 2/6\n",
      "47/47 [==============================] - 2s 41ms/step - loss: 0.4917 - accuracy: 0.7607 - val_loss: 0.5591 - val_accuracy: 0.7207\n",
      "Epoch 3/6\n",
      "47/47 [==============================] - 2s 41ms/step - loss: 0.4284 - accuracy: 0.8158 - val_loss: 0.5432 - val_accuracy: 0.7333\n",
      "Epoch 4/6\n",
      "47/47 [==============================] - 2s 43ms/step - loss: 0.3864 - accuracy: 0.8418 - val_loss: 0.5464 - val_accuracy: 0.7233\n",
      "Epoch 5/6\n",
      "47/47 [==============================] - 2s 41ms/step - loss: 0.3474 - accuracy: 0.8740 - val_loss: 0.5368 - val_accuracy: 0.7387\n",
      "Epoch 6/6\n",
      "47/47 [==============================] - 2s 42ms/step - loss: 0.3107 - accuracy: 0.9000 - val_loss: 0.5370 - val_accuracy: 0.7400\n",
      "Epoch 1/6\n",
      "47/47 [==============================] - 3s 56ms/step - loss: 0.3114 - accuracy: 0.8842 - val_loss: 0.5453 - val_accuracy: 0.7360\n",
      "Epoch 2/6\n",
      "47/47 [==============================] - 3s 72ms/step - loss: 0.2428 - accuracy: 0.9387 - val_loss: 0.5140 - val_accuracy: 0.7600\n",
      "Epoch 3/6\n",
      "47/47 [==============================] - 2s 53ms/step - loss: 0.1991 - accuracy: 0.9658 - val_loss: 0.5223 - val_accuracy: 0.7553\n",
      "Epoch 4/6\n",
      "47/47 [==============================] - 3s 68ms/step - loss: 0.1708 - accuracy: 0.9778 - val_loss: 0.5204 - val_accuracy: 0.7587\n",
      "Epoch 5/6\n",
      "47/47 [==============================] - 3s 60ms/step - loss: 0.1489 - accuracy: 0.9850 - val_loss: 0.5417 - val_accuracy: 0.7493\n",
      "Epoch 6/6\n",
      "47/47 [==============================] - 3s 72ms/step - loss: 0.1289 - accuracy: 0.9905 - val_loss: 0.5339 - val_accuracy: 0.7553\n"
     ]
    }
   ],
   "source": [
    "hist = [[]] * 3\n",
    "\n",
    "for i in range(3):\n",
    "    hist[i] = model.fit(\n",
    "        X_train[i], y_train[i],\n",
    "        batch_size = 128,\n",
    "        epochs = 6,\n",
    "        verbose = 1,\n",
    "        validation_split = 0.2\n",
    "    )"
   ]
  },
  {
   "cell_type": "code",
   "execution_count": 80,
   "metadata": {},
   "outputs": [
    {
     "name": "stdout",
     "output_type": "stream",
     "text": [
      "235/235 [==============================] - 1s 6ms/step - loss: 0.2309 - accuracy: 0.9159\n",
      "235/235 [==============================] - 1s 5ms/step - loss: 0.3048 - accuracy: 0.8873\n",
      "235/235 [==============================] - 1s 5ms/step - loss: 0.1942 - accuracy: 0.9465\n",
      "\n",
      "dataset 1: loss - 0.23094239830970764, acc - 0.9158666729927063\n",
      "\n",
      "dataset 2: loss - 0.3047662675380707, acc - 0.887333333492279\n",
      "\n",
      "dataset 3: loss - 0.19415146112442017, acc - 0.9465333223342896\n"
     ]
    }
   ],
   "source": [
    "loss = [[]] * 3\n",
    "acc = [[]] * 3\n",
    "\n",
    "for i in range(3):\n",
    "    loss[i], acc[i] = model.evaluate(\n",
    "        X_train[i], y_train[i],\n",
    "        verbose = 1\n",
    "    )\n",
    "\n",
    "for i in range(3):\n",
    "    print('\\ndataset {}: loss - {}, acc - {}'.format(i+1, loss[i], acc[i]))"
   ]
  },
  {
   "cell_type": "code",
   "execution_count": 81,
   "metadata": {},
   "outputs": [
    {
     "name": "stdout",
     "output_type": "stream",
     "text": [
      "79/79 [==============================] - 0s 5ms/step - loss: 0.4385 - accuracy: 0.7980\n",
      "79/79 [==============================] - 0s 6ms/step - loss: 0.5981 - accuracy: 0.7292\n",
      "79/79 [==============================] - 0s 5ms/step - loss: 0.5148 - accuracy: 0.7660\n",
      "\n",
      "dataset 1: loss - 0.43845272064208984, acc - 0.7979999780654907\n",
      "\n",
      "dataset 2: loss - 0.5981062054634094, acc - 0.729200005531311\n",
      "\n",
      "dataset 3: loss - 0.514782726764679, acc - 0.765999972820282\n"
     ]
    }
   ],
   "source": [
    "loss = [[]] * 3\n",
    "acc = [[]] * 3\n",
    "\n",
    "for i in range(3):\n",
    "    loss[i], acc[i] = model.evaluate(\n",
    "        X_test[i], y_test[i],\n",
    "        verbose = 1\n",
    "    )\n",
    "    \n",
    "for i in range(3):\n",
    "    print('\\ndataset {}: loss - {}, acc - {}'.format(i+1, loss[i], acc[i]))"
   ]
  },
  {
   "cell_type": "code",
   "execution_count": 82,
   "metadata": {},
   "outputs": [
    {
     "data": {
      "image/png": "[encoded data removed]",
      "text/plain": [
       "<Figure size 864x576 with 1 Axes>"
      ]
     },
     "metadata": {
      "needs_background": "light"
     },
     "output_type": "display_data"
    },
    {
     "data": {
      "image/png": "[encoded data removed]",
      "text/plain": [
       "<Figure size 864x576 with 1 Axes>"
      ]
     },
     "metadata": {
      "needs_background": "light"
     },
     "output_type": "display_data"
    },
    {
     "data": {
      "image/png": "[encoded data removed]",
      "text/plain": [
       "<Figure size 864x576 with 1 Axes>"
      ]
     },
     "metadata": {
      "needs_background": "light"
     },
     "output_type": "display_data"
    }
   ],
   "source": [
    "for i in range(3):\n",
    "    plt.figure(figsize=(12, 8))\n",
    "    plt.subplot(3, 3, i+1)\n",
    "    plt.title('model accuracy')\n",
    "    plt.xlabel('epoch')\n",
    "    plt.ylabel('accuracy')\n",
    "    plt.legend(['train', 'test'], loc = 'upper left')\n",
    "    plt.plot(hist[i].history['accuracy'])\n",
    "    plt.plot(hist[i].history['val_accuracy'])\n",
    "    plt.tight_layout(pad=1.0)\n",
    "\n",
    "plt.show()"
   ]
  },
  {
   "cell_type": "code",
   "execution_count": 83,
   "metadata": {},
   "outputs": [
    {
     "data": {
      "image/png": "[encoded data removed]",
      "text/plain": [
       "<Figure size 864x576 with 1 Axes>"
      ]
     },
     "metadata": {
      "needs_background": "light"
     },
     "output_type": "display_data"
    },
    {
     "data": {
      "image/png": "[encoded data removed]",
      "text/plain": [
       "<Figure size 864x576 with 1 Axes>"
      ]
     },
     "metadata": {
      "needs_background": "light"
     },
     "output_type": "display_data"
    },
    {
     "data": {
      "image/png": "[encoded data removed]",
      "text/plain": [
       "<Figure size 864x576 with 1 Axes>"
      ]
     },
     "metadata": {
      "needs_background": "light"
     },
     "output_type": "display_data"
    }
   ],
   "source": [
    "for i in range(3):\n",
    "    plt.figure(figsize=(12, 8))\n",
    "    plt.subplot(3, 3, i+1)\n",
    "    plt.title('model loss')\n",
    "    plt.xlabel('epoch')\n",
    "    plt.ylabel('loss')\n",
    "    plt.legend(['train', 'test'], loc = 'upper right')\n",
    "    plt.plot(hist[i].history['loss'])\n",
    "    plt.plot(hist[i].history['val_loss'])\n",
    "    plt.tight_layout(pad=1.0)\n",
    "\n",
    "plt.show()"
   ]
  },
  {
   "cell_type": "code",
   "execution_count": 86,
   "metadata": {},
   "outputs": [],
   "source": [
    "def predictions(text):\n",
    "  text1 = tokenizer.texts_to_sequences(text)\n",
    "  text2 = pad_sequences(\n",
    "        text1,\n",
    "        padding = 'post',\n",
    "        maxlen = maxlen\n",
    "    )\n",
    "  pred = model.predict(text2)\n",
    "  return 'positive' if pred[0] >= 0.5 else 'negative'"
   ]
  },
  {
   "cell_type": "code",
   "execution_count": 92,
   "metadata": {},
   "outputs": [
    {
     "data": {
      "text/plain": [
       "'positive'"
      ]
     },
     "execution_count": 92,
     "metadata": {},
     "output_type": "execute_result"
    }
   ],
   "source": [
    "predictions([\"Wade.Grad.Hot.Bald. Your not gonna shave your head! Uh. Yeah.I hot.get babes Hahahaha man love Wade!\"])"
   ]
  },
  {
   "cell_type": "code",
   "execution_count": 93,
   "metadata": {},
   "outputs": [
    {
     "data": {
      "text/plain": [
       "'negative'"
      ]
     },
     "execution_count": 93,
     "metadata": {},
     "output_type": "execute_result"
    }
   ],
   "source": [
    "predictions([\"waaaaahhh. ohyeah i had something to do eeee. haha\"])"
   ]
  },
  {
   "cell_type": "code",
   "execution_count": 94,
   "metadata": {},
   "outputs": [
    {
     "data": {
      "text/plain": [
       "'negative'"
      ]
     },
     "execution_count": 94,
     "metadata": {},
     "output_type": "execute_result"
    }
   ],
   "source": [
    "predictions([\"This is very bad. You should not do this.\"])"
   ]
  },
  {
   "cell_type": "code",
   "execution_count": 95,
   "metadata": {},
   "outputs": [
    {
     "data": {
      "text/plain": [
       "'positive'"
      ]
     },
     "execution_count": 95,
     "metadata": {},
     "output_type": "execute_result"
    }
   ],
   "source": [
    "predictions([\"I am very happy to hear that.\"])"
   ]
  },
  {
   "cell_type": "code",
   "execution_count": 96,
   "metadata": {},
   "outputs": [
    {
     "data": {
      "text/plain": [
       "'positive'"
      ]
     },
     "execution_count": 96,
     "metadata": {},
     "output_type": "execute_result"
    }
   ],
   "source": [
    "predictions([\"Wow! You look so beautiful.\"])"
   ]
  }
 ],
 "metadata": {
  "kernelspec": {
   "display_name": "Python 3",
   "language": "python",
   "name": "python3"
  },
  "language_info": {
   "codemirror_mode": {
    "name": "ipython",
    "version": 3
   },
   "file_extension": ".py",
   "mimetype": "text/x-python",
   "name": "python",
   "nbconvert_exporter": "python",
   "pygments_lexer": "ipython3",
   "version": "3.6.9"
  }
 },
 "nbformat": 4,
 "nbformat_minor": 4
}
